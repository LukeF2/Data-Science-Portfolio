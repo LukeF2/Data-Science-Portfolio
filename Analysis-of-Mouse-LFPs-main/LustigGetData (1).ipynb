{
  "cells": [
    {
      "attachments": {},
      "cell_type": "markdown",
      "metadata": {
        "id": "nDtqwwR2OEgC"
      },
      "source": [
        "# Data Extraction and Data Formatting Notebook\n",
        "\n",
        "This notebook shows how to preprocess the sample raw data files. For the LFP preprocessing consists of decimation, a 2 Hz highpass filter, and Hilbert transform. Your particular steps might (and likely will) differ and be specific to your data.\n",
        "\n",
        "Data: Brian Lustig's raw rec01_BehavElectrDataLFP.mat file (for spikes and behavior) and rec01.lfp file (for LFP), which can be downloaded from https://figshare.com/authors/Seiji_Akera/16387584"
      ]
    },
    {
      "attachments": {},
      "cell_type": "markdown",
      "metadata": {
        "id": "0eh7b1n6A6e7"
      },
      "source": [
        "## Supporting Functions\n",
        "\n",
        "Defined here are supporting functions that extract behavioral, LFP, and spiking information for a session."
      ]
    },
    {
      "cell_type": "code",
      "execution_count": 1,
      "metadata": {
        "id": "5RdcLRvSBMLE"
      },
      "outputs": [],
      "source": [
        "from scipy.signal import decimate\n",
        "import numpy as np\n",
        "import math\n",
        "import os\n",
        "from scipy import io\n",
        "import matplotlib.pyplot as plt\n",
        "\n",
        "\n",
        "def compAnly(Track, fs):\n",
        "    \"\"\"\n",
        "    Input:\n",
        "    Track = Contains information on the session pertaining to the track\n",
        "    fs = sampling frequency\n",
        "\n",
        "    Output:\n",
        "    lapID = Data stored in the format listed below\n",
        "\n",
        "    lapID format:\n",
        "    Column 0: Trial Number\n",
        "    Column 1: Maze arm (1/2/3)\n",
        "    Column 2: Correct (0/1)\n",
        "    Column 3: other/first approach/port/last departure (0/1/2/3)\n",
        "    Column 4: position in mm\n",
        "    \"\"\"\n",
        "\n",
        "    dec = 1250//fs #decimation factor\n",
        "\n",
        "    lapID = np.array([ np.squeeze(Track[\"lapID\"][0][0])[::dec] ])\n",
        "    lapID = np.append(lapID, [ np.squeeze(Track[\"mazeSect\"][0][0])[::dec] ], axis = 0)\n",
        "    lapID = np.append(lapID, [ np.squeeze(Track[\"corrChoice\"][0][0])[::dec] ], axis = 0)\n",
        "    lapID = np.append(lapID, np.zeros((1, len(lapID[0]))), axis = 0)\n",
        "    lapID = np.append(lapID, decimate(Track[\"xMM\"][0][0].T,dec), axis =0)\n",
        "    lapID = lapID.T\n",
        "\n",
        "    # Filter values and construct column 3\n",
        "    lapID[np.in1d(lapID[:,1], np.array(range(4, 10)), invert = True), 1] = 0\n",
        "    lapID[lapID[:, 1] > 6, 3] = 2\n",
        "    lapID[lapID[:, 1] > 0, 1] = (lapID[lapID[:,1] > 0, 1] - 1) % 3 + 1\n",
        "    lapID[lapID[:, 1] == 0, :] = 0\n",
        "\n",
        "    # Identify samples corresponding to the first period when the animal enters the maze section\n",
        "    for i in range(1, int(np.max(lapID[:, 0]) + 1)):\n",
        "        r = np.logical_and(lapID[:, 0] == i, lapID[:, 3] == 2)\n",
        "        inds = np.where(lapID[:, 0] == i)[0]\n",
        "        lapID[inds[inds < np.where(r > 0)[0][0]], 3] = 1\n",
        "        lapID[inds[inds > np.where(r > 0)[0][-1]], 3] = 3\n",
        "\n",
        "    # Return structured data\n",
        "    return lapID\n",
        "\n",
        "def get_spikes(mat_File,fs):\n",
        "    \"\"\"\n",
        "    Input:\n",
        "    mat_file = metadata file of type .mat\n",
        "    fs = sampling rate\n",
        "\n",
        "    Output:\n",
        "    sp = binned spikes\n",
        "    \"\"\"\n",
        "    mat = io.loadmat(mat_file, variable_names = ['Spike', 'Clu','xml'])\n",
        "    n_channels = mat['xml']['nChannels'][0][0][0][0]\n",
        "    dec = 1250//fs\n",
        "    max_spike_res = np.ceil(np.max(mat['Spike']['res'][0][0])/dec) + 1\n",
        "    max_spike_clu = np.max(mat['Spike']['totclu'][0][0]) + 1# Precompute the bins\n",
        "    bins_res = np.arange(max_spike_res)\n",
        "    bins_clu = np.arange(max_spike_clu)\n",
        "    spike_res = np.squeeze(mat['Spike']['res'][0][0]) // dec\n",
        "    spike_clu = np.squeeze(mat['Spike']['totclu'][0][0]) - 1\n",
        "\n",
        "    # Bin both dimensions using histogram2d.\n",
        "    sp, _,_ = np.histogram2d(spike_res, spike_clu, bins = (bins_res, bins_clu) )\n",
        "    sp = sp.astype(np.uint8)\n",
        "\n",
        "    mask = mat['Clu']['shank'][0][0][0] <= math.ceil(n_channels / 8)\n",
        "    sp = sp[:, mask]\n",
        "\n",
        "    return sp\n",
        "\n",
        "def get_LFP(lfp_file, n_channels, fs, trial_phase):\n",
        "    \"\"\"\n",
        "    Input:\n",
        "    lfp_file = raw lfp data file of type .lfp\n",
        "    fs = sampling rate\n",
        "\n",
        "    Output:\n",
        "    X = formatted lfp data\n",
        "    \"\"\"\n",
        "\n",
        "    dec = 1250//fs\n",
        "    file_size = os.path.getsize(lfp_file)\n",
        "    data_size = np.dtype('int16').itemsize\n",
        "    total_elements = file_size // data_size\n",
        "    n_samples = total_elements // n_channels\n",
        "\n",
        "    # Clip the dimensions to ensure the appropriate number of electrodes. Use multiple [0]'s to access the desired data.\n",
        "    if n_channels > 256:\n",
        "        n_keep = 255\n",
        "    else:\n",
        "        n_keep = 8\n",
        "\n",
        "    # Efficiently load and decimate the data\n",
        "    #slice_data = np.memmap(lfp_file, dtype='int16', mode='r', shape=(n_samples, n_channels))\n",
        "    #X = decimate(slice_data[:, :n_keep], dec, axis=0)\n",
        "    final_length = np.sum(trial_phase) #math.ceil(n_samples / dec)\n",
        "    X = np.zeros((final_length, n_keep), dtype=np.float32)\n",
        "\n",
        "    # Process each channel individually and store in the pre-allocated array\n",
        "    for channel in range(n_keep):#24, 32):\n",
        "        # Load the channel data using memmap\n",
        "        channel_data = np.memmap(lfp_file, dtype='int16', mode='r', shape=(n_samples, n_channels))[:, channel+24]\n",
        "        # Decimate the channel data\n",
        "        temp = decimate(channel_data, dec, axis=0)\n",
        "        print(temp)\n",
        "        print(\"trial_phase:\")\n",
        "        print(trial_phase)\n",
        "        print(\"sum(trial_phase):\")\n",
        "        print(sum(trial_phase))\n",
        "        print(\"temp[trial_phase]:\")\n",
        "        print(temp[trial_phase])\n",
        "        X[:,channel] = temp[trial_phase]\n",
        "        print(channel)\n",
        "\n",
        "    return X"
      ]
    },
    {
      "attachments": {},
      "cell_type": "markdown",
      "metadata": {
        "id": "-a9eR6GAMk8w"
      },
      "source": [
        "## Behavior importing"
      ]
    },
    {
      "cell_type": "code",
      "execution_count": 2,
      "metadata": {
        "id": "gBhrR7vgJQAB",
        "scrolled": true
      },
      "outputs": [],
      "source": [
        "from scipy import io\n",
        "\n",
        "fs = 625 #sampling rate in Hz\n",
        "data_dir = \"/Users/lukefeng/Desktop/LustigData/\" #Replace this with your file location\n",
        "\n",
        "# Specify data files\n",
        "mat_file = data_dir + \"rec01_BehavElectrDataLFP.mat\" #contains spiking and behavioral data\n",
        "lfp_file = data_dir + \"rec01.lfp\" #contains LFP data\n",
        "\n",
        "# Extract behavior\n",
        "mat = io.loadmat(mat_file, variable_names = ['Track'])#, 'Spike', 'Clu'])\n",
        "lapID = compAnly(mat['Track'],fs)\n"
      ]
    },
    {
      "attachments": {},
      "cell_type": "markdown",
      "metadata": {
        "id": "i1CdnT4ouaWj"
      },
      "source": [
        "## Visualize phases of trial"
      ]
    },
    {
      "cell_type": "code",
      "execution_count": 3,
      "metadata": {
        "id": "gh58fgOmuaWj",
        "outputId": "52bfcfaa-341a-4971-e264-748e67d2b9f2"
      },
      "outputs": [
        {
          "data": {
            "image/png": "[encoded data removed]",
            "text/plain": [
              "<Figure size 640x480 with 1 Axes>"
            ]
          },
          "metadata": {},
          "output_type": "display_data"
        }
      ],
      "source": [
        "trNum = 2\n",
        "inds = np.where(lapID[:,0] == trNum)[0]\n",
        "plt.plot(inds,lapID[inds,4]);\n",
        "lab = ['First approach','Reward','Last departure']\n",
        "for i in range(1,4):\n",
        "    inds = np.where(np.logical_and(lapID[:,0] == trNum, lapID[:,3] == i))[0]\n",
        "    plt.scatter(inds,lapID[inds,4],label=lab[i-1]);\n",
        "\n",
        "plt.legend();\n",
        "plt.title('Trial #' + str(trNum));"
      ]
    },
    {
      "attachments": {},
      "cell_type": "markdown",
      "metadata": {
        "id": "GgDFNvumuaWk"
      },
      "source": [
        "## LFP importing"
      ]
    },
    {
      "cell_type": "code",
      "execution_count": 4,
      "metadata": {
        "id": "6itMiCqxuaWk",
        "outputId": "0e3e1ac8-13a0-4a24-ba0d-adf63e7a5519",
        "scrolled": true
      },
      "outputs": [
        {
          "name": "stdout",
          "output_type": "stream",
          "text": [
            "[3851.63997168 3486.88963026 3650.71442651 ... 2913.91355092 3318.17876075\n",
            " 2763.39008467]\n",
            "trial_phase:\n",
            "[False False False ... False False False]\n",
            "sum(trial_phase):\n",
            "961399\n",
            "temp[trial_phase]:\n",
            "[4103.77795617 4045.88124513 3928.43298454 ... 3838.14939687 3864.91216562\n",
            " 3861.85364104]\n",
            "0\n",
            "[4323.36896577 3940.70300092 4087.67138427 ... 3315.22262481 3777.89695309\n",
            " 3141.14879449]\n",
            "trial_phase:\n",
            "[False False False ... False False False]\n",
            "sum(trial_phase):\n",
            "961399\n",
            "temp[trial_phase]:\n",
            "[4602.69762967 4543.8030982  4439.41149432 ... 4314.96522186 4349.17545089\n",
            " 4343.53967183]\n",
            "1\n",
            "[3726.50864125 3491.2715243  3679.56945589 ... 3402.98691849 3668.45978216\n",
            " 3053.9297496 ]\n",
            "trial_phase:\n",
            "[False False False ... False False False]\n",
            "sum(trial_phase):\n",
            "961399\n",
            "temp[trial_phase]:\n",
            "[4068.75197987 3949.41954796 3778.10333153 ... 3893.4523168  3873.17863908\n",
            " 3932.07751792]\n",
            "2\n",
            "[4085.96960023 3726.49560061 3893.27098302 ... 3191.45283076 3608.62421738\n",
            " 3007.79326981]\n",
            "trial_phase:\n",
            "[False False False ... False False False]\n",
            "sum(trial_phase):\n",
            "961399\n",
            "temp[trial_phase]:\n",
            "[4337.56686756 4280.30230741 4163.84616115 ... 4082.19991558 4094.65865788\n",
            " 4093.51118251]\n",
            "3\n",
            "[3618.959783   3403.18520892 3580.3507428  ... 3371.3483087  3660.36045394\n",
            " 3053.40030332]\n",
            "trial_phase:\n",
            "[False False False ... False False False]\n",
            "sum(trial_phase):\n",
            "961399\n",
            "temp[trial_phase]:\n",
            "[4004.82384021 3912.69901313 3709.73184781 ... 3795.79363426 3743.14578319\n",
            " 3809.74803461]\n",
            "4\n",
            "[4310.72742209 4019.23280528 4203.15260839 ... 3864.71427027 4183.13150412\n",
            " 3473.3856872 ]\n",
            "trial_phase:\n",
            "[False False False ... False False False]\n",
            "sum(trial_phase):\n",
            "961399\n",
            "temp[trial_phase]:\n",
            "[4604.93856918 4526.71152188 4357.9246123  ... 4266.98297424 4232.79639085\n",
            " 4275.78081499]\n",
            "5\n"
          ]
        }
      ],
      "source": [
        "mat = io.loadmat(mat_file, variable_names = ['xml'])\n",
        "n_channels = mat['xml']['nChannels'][0][0][0][0]\n",
        "X = get_LFP(lfp_file,n_channels,fs,lapID[:,3]==2)"
      ]
    },
    {
      "cell_type": "code",
      "execution_count": null,
      "metadata": {},
      "outputs": [],
      "source": []
    },
    {
      "attachments": {},
      "cell_type": "markdown",
      "metadata": {
        "id": "WfUelLz5uaWk"
      },
      "source": [
        "## Spike importing"
      ]
    },
    {
      "cell_type": "code",
      "execution_count": null,
      "metadata": {},
      "outputs": [
        {
          "name": "stdout",
          "output_type": "stream",
          "text": [
            "[[4103.778  4602.6978 4068.752  ... 4604.9385 3909.3337 4336.1733]\n",
            " [4045.8813 4543.803  3949.4194 ... 4526.7114 3811.3706 4244.628 ]\n",
            " [3928.433  4439.4116 3778.1033 ... 4357.925  3638.3748 4110.643 ]\n",
            " ...\n",
            " [3838.1494 4314.9653 3893.4524 ... 4266.983  3934.2346 4417.561 ]\n",
            " [3864.912  4349.1753 3873.1787 ... 4232.7964 3913.5667 4387.751 ]\n",
            " [3861.8538 4343.5396 3932.0776 ... 4275.781  3965.9673 4455.84  ]]\n"
          ]
        }
      ],
      "source": [
        "print(X)\n",
        "np.save('neuro_data.npy', X)"
      ]
    },
    {
      "cell_type": "code",
      "execution_count": null,
      "metadata": {
        "id": "lucaTnesuaWl"
      },
      "outputs": [],
      "source": [
        "sp = get_spikes(mat_file,fs)"
      ]
    }
  ],
  "metadata": {
    "colab": {
      "provenance": []
    },
    "kernelspec": {
      "display_name": "Python 3",
      "language": "python",
      "name": "python3"
    },
    "language_info": {
      "codemirror_mode": {
        "name": "ipython",
        "version": 3
      },
      "file_extension": ".py",
      "mimetype": "text/x-python",
      "name": "python",
      "nbconvert_exporter": "python",
      "pygments_lexer": "ipython3",
      "version": "3.11.4"
    }
  },
  "nbformat": 4,
  "nbformat_minor": 0
}
